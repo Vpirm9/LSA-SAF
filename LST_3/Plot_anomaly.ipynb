{
 "cells": [
  {
   "cell_type": "markdown",
   "metadata": {},
   "source": [
    "<img src='img/banner.png' align='right' width='100%'></img>"
   ]
  },
  {
   "cell_type": "markdown",
   "metadata": {},
   "source": [
    "<div class=\"alert alert-block alert-success\">\n",
    "<b>PREREQUISITE </b><br>\n",
    "\n",
    "For smooth experience some actions are needed:  \n",
    "* Download the **MLST-ASv2** climatology in `NetCDF4` format from [LSA SAF data server](https://datalsasaf.lsasvcs.ipma.pt/PRODUCTS/MSG/MLST-ASv2). \n",
    "* Download **MLST-ASv2** data in `NetCDF4` format for the period 1 July 2023 to 31 August 2023 [LSA SAF data server](https://datalsasaf.lsasvcs.ipma.pt/PRODUCTS/MSG/MLST-ASv2/CLIM-NETCDF/) in `NetCDF4`. \n",
    "</div>"
   ]
  },
  {
   "cell_type": "markdown",
   "metadata": {},
   "source": [
    "\n",
    "# Plotting the Maximum Daily Temperature Anomaly"
   ]
  },
  {
   "cell_type": "markdown",
   "metadata": {},
   "source": [
    "#### About"
   ]
  },
  {
   "cell_type": "markdown",
   "metadata": {},
   "source": [
    "The aim of this notebook is to produce animated anomalies of daily maximum temperatures at specific geographical region. Additionally it is meant to show general framework for calculating anomalies with LSA SAF data.\n",
    "\n",
    "Work is based on the LSA SAF Land Surface Temperature - All Sky version 2 (MLST-ASv2) product which is currently in the demonstration phase, i.e. all the data may be subject to a change.\n",
    "\n",
    "Daily maximum temperature is determined from multiple daily temperatures.\n",
    "Similarly maximal temperatures could be obtained by using the [LSA SAF MLST](https://landsaf.ipma.pt/en/data/products/land-surface-temperature-and-emissivity/) product.\n",
    "For the period 2004-2022 the climatology is already pre-calculated and publicly accessible.\n",
    "\n",
    "The focus will be on the heat waves in July and August of 2023 in the Mediterranean region.  Temperatures for July 2023 were much higher than their 1991-2020 averages over southern Europe. Heatwaves were experienced from Spain in the west to the Balkans in the east. In Portugal, France and Italy heatwaves also extend in August.\n",
    "Several temperature records were recorded at the time as described in [reference](https://climate.copernicus.eu/surface-air-temperature-august-2023). \n",
    "\n",
    "The daily maximum temperature wasn't available as an LSA SAF product at the time of production of this notebook, therefore it needed to be determined from multiple temperature measurements. This could be also done using the LSA SAF MLST product, but there could be a potential problem if too many values are missing due to clouds and other obstructions."
   ]
  },
  {
   "cell_type": "markdown",
   "metadata": {},
   "source": [
    "#### Basic Facts on the LSA SAF MLST-ASv2 \n",
    "\n",
    " > **Spatial resolution**: 3km at nadir \n",
    " >\n",
    " > **Spatial coverage**: MSG disk \n",
    " >\n",
    " > **Time steps**: 30 min  \n",
    " >\n",
    " > **Data availability**: from 2004"
   ]
  },
  {
   "cell_type": "markdown",
   "metadata": {},
   "source": [
    "#### How to access the data\n",
    "\n",
    "For this example, MLST-ASv2 measurements from  1 July 2023, to 31 August 2023 and [MLST-ASv2 Climatology](https://datalsasaf.lsasvcs.ipma.pt/PRODUCTS/MSG/MLST-ASv2/CLIM-NETCDF/) are used. All measurements are available as NetCDF4 file. The LSA SAF products files can be downloaded from the [data server](https://datalsasaf.lsasvcs.ipma.pt/PRODUCTS/) available at https://datalsasaf.lsasvcs.ipma.pt/ with prior registration. Data can be downloaded in various ways, for instance manually, using approach published on [lsasaf_data_access GitLab](https://gitlab.com/helpdesk.landsaf/lsasaf_data_access/-/blob/main/examples/webdav/webdav_colab_example.ipynb) repository or using [WebDAV protocol](https://gitlab.com/helpdesk.landsaf/lsasaf_data_access/-/wikis/data/webdav). An additional option is to use the `GNU Wget` program."
   ]
  },
  {
   "cell_type": "markdown",
   "metadata": {
    "Collapsed": "false"
   },
   "source": [
    "#### Module Outline:\n",
    "* [1 - Create a Geographical Subset and Find Maximum Daily Temperature](#subset)\n",
    "* [2 - Calculate Anomaly for Subset Region](#anomaly)\n",
    "* [3 - Create an Animation ](#animate)"
   ]
  },
  {
   "cell_type": "markdown",
   "metadata": {},
   "source": [
    "#### Load Required Libraries"
   ]
  },
  {
   "cell_type": "code",
   "execution_count": null,
   "metadata": {},
   "outputs": [],
   "source": [
    "import matplotlib.pyplot as plt                     # a library that provides plotting capability\n",
    "from matplotlib.animation import FuncAnimation      # a library that provides plotting capability\n",
    "from matplotlib.ticker import FuncFormatter         # a library that provides plotting capability\n",
    "\n",
    "import datetime as dt                               # a library that allows us to work with dates and times\n",
    "import xarray as xr                                 # a library that helps us work efficiently with multi-dimensional arrays\n",
    "import numpy as np                                  # a library that lets us work with arrays; we import this with a new name \"np\"\n",
    "import pandas as pd                                 # a library for time series analysis\n",
    "\n",
    "import cartopy.crs as ccrs                          # a library that supports mapping and projection \n",
    "import cartopy.feature as cf                        # a cartopy extension that support adding features, e.g. coastlines\n",
    "import cartopy                                      # a library that supports mapping and projection\n",
    "from IPython.display import HTML                    # a module to handle animations with jupyter notebooks\n",
    "from matplotlib import rcParams                     # is a dictionary-like object that stores default settings for matplotlib plots, allowing users to customize various properties. "
   ]
  },
  {
   "cell_type": "markdown",
   "metadata": {},
   "source": [
    "### <a id='subset'></a>1. Create a Geographical Subset and Find Maximum Daily Temperature"
   ]
  },
  {
   "cell_type": "markdown",
   "metadata": {},
   "source": [
    "First, a list of dates of interest is generated. Since we work with multiple `NetCDF4` files, which could be memory consuming, we will load only a subset of the `NetCDF4` into a memory. Our area of interest, the Mediterranean, is specified at the beginning of the notebook."
   ]
  },
  {
   "cell_type": "code",
   "execution_count": null,
   "metadata": {},
   "outputs": [],
   "source": [
    "# We can set start and end date using the following 2 variables:\n",
    "start_date = dt.datetime(2023, 7, 1)\n",
    "end_date = dt.datetime(2023, 8, 31)\n",
    "\n",
    "# A list of days of interest is generated.\n",
    "date_range = pd.date_range(start_date, end_date - dt.timedelta(days=1), freq=\"d\")\n",
    "\n",
    "# We only chose area, that we want to load to speed up the process\n",
    "lat_slice = slice(55.0, 34.0)\n",
    "lon_slice = slice(-10, 20)\n",
    "\n",
    "# We can check the list of dates of interest\n",
    "print(date_range)"
   ]
  },
  {
   "cell_type": "markdown",
   "metadata": {},
   "source": [
    "We want to find out the maximum daily temperature. This is the highest measured temperature in the course of the day, therefore, we need to compare all the daily measurements.\n",
    "\n",
    "First, we specify a list of times for which we have measurements. We need to construct a list of dates (`pd.datetime()` objects) and a list of hours in a day. We achieve this by constructing a list of 48 `pd.datetime()` objects (every 30 minutes) within the first date in the list of dates. We are then calling year, month and day from the list of dates and hours and minutes from the list of times within a day.\n",
    "\n",
    "The first measurement of the day is the first candidate for daily maximum temperature. Then we loop over all other measurements and check if they are greater than the previous maximum. In order to do so, the `xarray` dataset needs to be converted into a `numpy array` using `.values`."
   ]
  },
  {
   "cell_type": "code",
   "execution_count": null,
   "metadata": {},
   "outputs": [],
   "source": [
    "# Create a list of hours for which we have MLST-ASv2 data\n",
    "day_range = pd.date_range(\n",
    "    date_range[0],\n",
    "    date_range[0] + dt.timedelta(minutes=1410),\n",
    "    freq=dt.timedelta(minutes=30),\n",
    ")\n",
    "\n",
    "# Open the first dataset in a list, but don`t load it into memory\n",
    "first_ds = xr.open_dataset(\n",
    "    \"Data/NETCDF4_LSASAF_MSG_MLST-ASv2_MSG-Disk_\"\n",
    "    + str(\"{:02d}\".format(date_range[0].year))\n",
    "    + str(\"{:02d}\".format(date_range[0].month))\n",
    "    + str(\"{:02d}\".format(date_range[0].day))\n",
    "    + str(\"{:02d}\".format(day_range[0].hour))\n",
    "    + str(\"{:02d}\".format(day_range[0].minute))\n",
    "    + \".nc\"\n",
    ")\n",
    "\n",
    "# Load only a slice of the data (area of interest) into a memory\n",
    "# Only MLST-AS values are loaded, without error, Q-flag etc.\n",
    "\n",
    "first_ds = first_ds.sel(\n",
    "    lat=lat_slice,\n",
    "    lon=lon_slice,\n",
    "    time=dt.datetime.combine(date_range[0].date(), day_range[0].time()),\n",
    ")[\"MLST-AS\"].load()\n",
    "\n",
    "# Values from the dataset are saved into numpy array\n",
    "# The first entry is the first candidate for maximum\n",
    "max_np = first_ds.values\n",
    "\n",
    "# Numpy array doesn't have it's own coordinates,\n",
    "# coordinates are  therefore saved separately\n",
    "\n",
    "lat_coords = first_ds[\"lat\"].values\n",
    "lon_coords = first_ds[\"lon\"].values\n",
    "\n",
    "# We close the dataset to free the memory\n",
    "first_ds.close()\n",
    "\n",
    "# Loop over all the measurements in a day, the first hour is already checked\n",
    "for i, time in enumerate(day_range[:-1], 0):\n",
    "\n",
    "    # Define dataset\n",
    "    next_ds = xr.open_dataset(\n",
    "        \"Data/NETCDF4_LSASAF_MSG_MLST-ASv2_MSG-Disk_\"\n",
    "        + str(\"{:02d}\".format(date_range[0].year))\n",
    "        + str(\"{:02d}\".format(date_range[0].month))\n",
    "        + str(\"{:02d}\".format(date_range[0].day))\n",
    "        + str(\"{:02d}\".format(day_range[i + 1].hour))\n",
    "        + str(\"{:02d}\".format(day_range[i + 1].minute))\n",
    "        + \".nc\"\n",
    "    )\n",
    "\n",
    "    # Load the data from the area on interest into a memory\n",
    "\n",
    "    next_np = (\n",
    "        next_ds.sel(\n",
    "            lat=lat_slice,\n",
    "            lon=lon_slice,\n",
    "            time=dt.datetime.combine(date_range[0].date(), day_range[i + 1].time()),\n",
    "        )[\"MLST-AS\"]\n",
    "        .load()\n",
    "        .values\n",
    "    )\n",
    "\n",
    "    # Compare current values with current maximum and update maximum\n",
    "    max_np = np.fmax(max_np, next_np)\n",
    "\n",
    "    # Close dataset to free the memory\n",
    "    next_ds.close()\n",
    "\n",
    "\n",
    "# Dataset is created back from numpy array\n",
    "# Coordinates saved before were used\n",
    "max_xr_ds = xr.Dataset(\n",
    "    data_vars={\"Daily_maximum\": ([\"lat\", \"lon\"], max_np)},\n",
    "    coords={\"lat\": lat_coords, \"lon\": lon_coords},\n",
    ")\n",
    "\n",
    "# Maximum daily temperature dataset is investigated\n",
    "print(max_xr_ds)\n",
    "max_xr_ds.Daily_maximum.plot()"
   ]
  },
  {
   "cell_type": "markdown",
   "metadata": {},
   "source": [
    "### <a id='anomaly'></a>2. Calculate the Anomaly Over a `NetCDF4` subset"
   ]
  },
  {
   "cell_type": "markdown",
   "metadata": {},
   "source": [
    "We calculated the daily maximum. If we repeat this procedure over multiple days, we are able to observe the trends in daily maximum temperature.\n",
    "\n",
    "To really detect deviations from expected temperature (ie., climatology), the reference daily maximum temperature needs to be calculated. The daily maximum temperature climatology is already available as a part of the MLST-ASv2 product. The total size of the climatology (calculated from the multi-year data) is about 1.8 GB, therefore it is wise to load only the subset data into the memory.\n",
    "\n",
    "To calculate anomaly, we compare the measured daily maximum temperature with the 2004-2022 climatology. The entries in the climatology `NetCDF4` file have assigned dates of creation in 2022, therefore we can call them with the list of dates, defined before and use of the `.replace(2022)` command."
   ]
  },
  {
   "cell_type": "code",
   "execution_count": null,
   "metadata": {},
   "outputs": [],
   "source": [
    "# Open the climatology netCDF file without loading\n",
    "climatology_ds = xr.open_dataset(\n",
    "    \"Data/NETCDF4_LSASAF_MSG_MLST-ASv2_MSG-Disk_DAILY-MAX_CLIM_2004-2022.nc\"\n",
    ")\n",
    "\n",
    "# Load data only for the time of interest\n",
    "# Climatology has a year of production 2022, .replacer(2022) is neded\n",
    "climatology_ds = climatology_ds.sel(\n",
    "    time=date_range[0].replace(2022), lat=lat_slice, lon=lon_slice\n",
    ")\n",
    "\n",
    "# Climatology daily maximum temperature can be investigated\n",
    "print(climatology_ds)\n",
    "climatology_ds[\"MLST-AS\"].plot()"
   ]
  },
  {
   "cell_type": "markdown",
   "metadata": {},
   "source": [
    "As mentioned before, the `xarray` dataset was loaded into a `numpy` array and we made all operations with `numpy`.\n",
    "\n",
    "The `xarray` library allows for some operations to be made on the xarray datasets, e.g., addition, subtraction as well as a wide list of functions that can be applied using `xarray.apply_ufunc`, but we found this approach unstable when dealing with files with different metadata such as the case here.\n",
    "\n",
    "In the next cell, we calculate the maximum daily temperature anomaly as the difference between the daily maximum and the climatology. The result is then packed into a `xarray` dataset by converting it from a 2D to a 3D array so that the resulting dataset has the same shape as the majority of LSA SAF products saved as NetCDF4 files."
   ]
  },
  {
   "cell_type": "code",
   "execution_count": null,
   "metadata": {},
   "outputs": [],
   "source": [
    "# Difference between calculate maximum daily temperature and climatology is calculated\n",
    "\n",
    "diff_np = max_xr_ds[\"Daily_maximum\"].values - climatology_ds[\"MLST-AS\"].values\n",
    "\n",
    "# Dataset is created\n",
    "anomaly_ds = xr.Dataset(\n",
    "    data_vars={\n",
    "        \"Daily_maximum_anomaly\": ([\"time\", \"lat\", \"lon\"], diff_np[np.newaxis, :, :])\n",
    "    },\n",
    "    coords={\n",
    "        \"time\": np.array([date_range[0]]),\n",
    "        \"lat\": ([\"lat\"], lat_coords, {\"units\": \"degrees_north\"}),\n",
    "        \"lon\": ([\"lon\"], lon_coords, {\"units\": \"degrees_east\"}),\n",
    "    },\n",
    ")\n",
    "\n",
    "# Calculated maximum daily temperature anomaly is investigated\n",
    "anomaly_ds.Daily_maximum_anomaly.plot()\n",
    "print(anomaly_ds)"
   ]
  },
  {
   "cell_type": "markdown",
   "metadata": {},
   "source": [
    "### <a id='animate'></a>3. Create an animation"
   ]
  },
  {
   "cell_type": "markdown",
   "metadata": {},
   "source": [
    "Animations with `xarray` are somewhat tricky. An example adapted from [source](https://climate-cms.org/posts/2019-09-03-python-animation.html) is shown here.\n",
    "\n",
    "In general, there are 2 approaches to make an animation using `matplotlib`:\n",
    "* `FuncAnimation`: produces animation by repeatedly calling function\n",
    "* `ArtistAnimation`: produces animation by saved `Artist` objects (all the plotting is done before).\n",
    "\n",
    "In this case, `FuncAnnimation` is used. A function `update_data` is constructed, that returns a dataset for each frame, then the `matplotlib.FuncAnimation` calls it and makes an animation.\n",
    "\n",
    "Code shown in previous cells is recycled inside a `update_data` function, which returns the dataset with calculated daily maximum temperature anomaly for an input time (`datetime` object). The date range of our animation and area of interest is defined at the beginning of the notebook."
   ]
  },
  {
   "cell_type": "code",
   "execution_count": null,
   "metadata": {},
   "outputs": [],
   "source": [
    "def update_data(date):\n",
    "    \"\"\"\n",
    "    The function returns daily maximum temperature anomaly for a given date\n",
    "    input : datetime object (Time in a day must be set to 00:00:00)\n",
    "    output : xr.dataset\n",
    "    \"\"\"\n",
    "    # We create a list of hours in a given day\n",
    "    day_range = pd.date_range(\n",
    "        date, date + dt.timedelta(minutes=1410), freq=dt.timedelta(minutes=30)\n",
    "    )\n",
    "\n",
    "    # The first dataset of the day is opened\n",
    "    first_ds = xr.open_dataset(\n",
    "        \"Data/NETCDF4_LSASAF_MSG_MLST-ASv2_MSG-Disk_\"\n",
    "        + str(\"{:02d}\".format(date.year))\n",
    "        + str(\"{:02d}\".format(date.month))\n",
    "        + str(\"{:02d}\".format(date.day))\n",
    "        + str(\"{:02d}\".format(day_range[0].hour))\n",
    "        + str(\"{:02d}\".format(day_range[0].minute))\n",
    "        + \".nc\"\n",
    "    )\n",
    "    # Load only a slice of data (area of interest) into a memory\n",
    "    '''Only MLST-AS values arAnimation can be exported, to be used in other aplications,\n",
    "    e.g. websites. it is recommendet to use \"Diverging\" colormaps\n",
    "    (PiYG, PRGn, BrBG, PuOr, RdGy, RdBu, RdYlBu, RdYlGn,Spectral, coolwarm, bwr, seismic)\n",
    "    since they allow a good discrimination between areas,\n",
    "    that are hotter or colder than the climatology.e loaded, without error, Q-flag etc.'''\n",
    "    \n",
    "    first_ds = first_ds.sel(\n",
    "        lat=lat_slice,\n",
    "        lon=lon_slice,\n",
    "        time=dt.datetime.combine(date.date(), day_range[0].time()),\n",
    "    )[\"MLST-AS\"].load()\n",
    "\n",
    "    # Values from the dataset are saved into a numpy array.\n",
    "    # The first entry is the first candidate for maximum.\n",
    "    max_np = first_ds.values\n",
    "\n",
    "    # Numpy array doesn't have its own coordinates\n",
    "    # Coordinates are saved separately\n",
    "    lat_coords = first_ds[\"lat\"].values\n",
    "    lon_coords = first_ds[\"lon\"].values\n",
    "\n",
    "    # Dataset is closed to free the memory\n",
    "    first_ds.close()\n",
    "\n",
    "    # Loop over all hours in one day, the first hour is already checked\n",
    "    for i, time_input in enumerate(day_range[:-1], 0):\n",
    "\n",
    "        # The next dataset is defined, but not loaded\n",
    "        next_ds = xr.open_dataset(\n",
    "            \"Data/NETCDF4_LSASAF_MSG_MLST-ASv2_MSG-Disk_\"\n",
    "            + str(\"{:02d}\".format(date.year))\n",
    "            + str(\"{:02d}\".format(date.month))\n",
    "            + str(\"{:02d}\".format(date.day))\n",
    "            + str(\"{:02d}\".format(day_range[i + 1].hour))\n",
    "            + str(\"{:02d}\".format(day_range[i + 1].minute))\n",
    "            + \".nc\"\n",
    "        )\n",
    "\n",
    "        # The next datased is loaded\n",
    "        next_np = (\n",
    "            next_ds.sel(\n",
    "                lat=lat_slice,\n",
    "                lon=lon_slice,\n",
    "                time=dt.datetime.combine(date.date(), day_range[i + 1].time()),\n",
    "            )[\"MLST-AS\"]\n",
    "            .load()\n",
    "            .values\n",
    "        )\n",
    "\n",
    "        # The current dataset is compared with current candidate for the maximum\n",
    "        # Maximum is updated\n",
    "        max_np = np.fmax(max_np, next_np)\n",
    "\n",
    "        # The current dataset is closed, to free the memory, the maximum is saved in a numpy array\n",
    "        next_ds.close()\n",
    "\n",
    "    # Daily maximum temperature dataset is produced\n",
    "    max_xr_ds = xr.Dataset(\n",
    "        data_vars={\"Daily_maximum\": ([\"lat\", \"lon\"], max_np)},\n",
    "        coords={\"lat\": lat_coords, \"lon\": lon_coords},\n",
    "        # dims=[\"time\", \"lat\",\"lon\"]\n",
    "    )\n",
    "\n",
    "    # Climatology dataset is defined, but not loaded\n",
    "    climatology_ds = xr.open_dataset(\n",
    "        \"Data/NETCDF4_LSASAF_MSG_MLST-ASv2_MSG-Disk_DAILY-MAX_CLIM_2004-2022.nc\"\n",
    "    )\n",
    "\n",
    "    # Only the area for the date of interest is loaded\n",
    "    climatology_ds = climatology_ds.sel(\n",
    "        time=date_range[0].replace(2022), lat=lat_slice, lon=lon_slice\n",
    "    )\n",
    "\n",
    "    # Difference between the measured daily maximum and climatology is calculated\n",
    "    diff_np = (\n",
    "        max_xr_ds[\"Daily_maximum\"].values[:, :] - climatology_ds[\"MLST-AS\"].values[:, :]\n",
    "    )\n",
    "\n",
    "    # Anomaly dataset is produced\n",
    "    anomaly_ds = xr.Dataset(\n",
    "        data_vars={\n",
    "            \"Daily_maximum_anomaly\": ([\"time\", \"lat\", \"lon\"], diff_np[np.newaxis, :, :])\n",
    "        },\n",
    "        coords={\n",
    "            \"time\": np.array([date]),\n",
    "            \"lat\": ([\"lat\"], lat_coords, {\"units\": \"degrees_north\"}),\n",
    "            \"lon\": ([\"lon\"], lon_coords, {\"units\": \"degrees_east\"}),\n",
    "        },\n",
    "    )\n",
    "\n",
    "    # The anomaly dataset is returned as a function output\n",
    "    return anomaly_ds.Daily_maximum_anomaly"
   ]
  },
  {
   "cell_type": "markdown",
   "metadata": {},
   "source": [
    "Since the `xarray` `pyplot` wrapper is not the best tool to plot animation, the ticks need to be formatted manually. This can be done by defining the custom `formatter` using the approach described [here](https://stackoverflow.com/questions/66817786/how-can-i-use-the-formatters-to-make-custom-ticks-in-matplotlib)."
   ]
  },
  {
   "cell_type": "code",
   "execution_count": null,
   "metadata": {},
   "outputs": [],
   "source": [
    "# Define a custom tick formatter function for latitude\n",
    "def custom_latitude_formatter(x, pos):\n",
    "    if x >= 0:\n",
    "        return f\"{x}˚ N\"\n",
    "    else:\n",
    "        return f\"{abs(x)}˚ S\"\n",
    "\n",
    "\n",
    "# Define a custom tick formatter function for longitude\n",
    "def custom_longitude_formatter(y, pos):\n",
    "    if y >= 0:\n",
    "        return f\"{y}˚ E\"\n",
    "    else:\n",
    "        return f\"{abs(y)}˚ W\""
   ]
  },
  {
   "cell_type": "markdown",
   "metadata": {},
   "source": [
    "The animation is produced by calling the `FuncAnimation()` function, which specifies the figure, update function, number of frames and time interval for changing the frames, the rest in the following code is setting up the figure and customizing the plot.\n",
    "\n",
    "Since the `xarry` `plot` wrapper isn't the most compatible with animations all setting up of the figure needs to be done manually. Firstly, the figure is defined, then the first frame is plotted, gridlines and ticks are set, as well as the colorbar.\n",
    "\n",
    "Animation can be either shown within jupyter using `HTML(animation.to_jshtml())` or saved as `.gif` picture or `.mp4` video. The necessary statements for saving animation are commented on the end of the cell and can be uncommented if necessary."
   ]
  },
  {
   "cell_type": "code",
   "execution_count": null,
   "metadata": {},
   "outputs": [],
   "source": [
    "# There is a default limit on animation size (21 MB). It needs to be adjusted.\n",
    "rcParams['animation.embed_limit'] = 100.0 \n",
    "\n",
    "# Desired projection is chosen\n",
    "choosen_projection = ccrs.PlateCarree()\n",
    "\n",
    "# Desired fontsize is chosen\n",
    "fontsize = 14\n",
    "\n",
    "# Get a handle on the figure and the axes\n",
    "fig, ax = plt.subplots(\n",
    "    subplot_kw={\"projection\": choosen_projection}, figsize=(12, 7), facecolor=\"white\"\n",
    ")\n",
    "\n",
    "# Data for the first frame are plotted\n",
    "cax = update_data(date_range[0]).plot(\n",
    "    add_colorbar=False,\n",
    "    cmap=\"seismic\",\n",
    "    vmin=-20,\n",
    "    vmax=20,\n",
    ")\n",
    "\n",
    "# Gridlines and ticks range is defined (same ticks as gridlines)\n",
    "grid_xrange = range(-180, 180, 5)\n",
    "grid_yrange = range(-90, 90, 5)\n",
    "\n",
    "# Gridlines are setAnimation can be exported, to be used in other aplications, e.g. websites. it is recommendet to use \"Diverging\" colormaps(PiYG, PRGn, BrBG, PuOr, RdGy, RdBu, RdYlBu, RdYlGn,Spectral, coolwarm, bwr, seismic) since they allow a good discrimination between areas, that are hotter or colder than the climatology.\n",
    "grid_lines = ax.gridlines()\n",
    "grid_lines.xlocator = plt.FixedLocator(grid_xrange)\n",
    "grid_lines.ylocator = plt.FixedLocator(grid_yrange)\n",
    "\n",
    "# Ticks are set\n",
    "ax.set_xticks(grid_xrange, crs=ccrs.PlateCarree())\n",
    "ax.set_yticks(grid_yrange, crs=ccrs.PlateCarree())\n",
    "ax.xaxis.set_major_formatter(FuncFormatter(custom_longitude_formatter))\n",
    "ax.yaxis.set_major_formatter(FuncFormatter(custom_latitude_formatter))\n",
    "ax.tick_params(axis=\"both\", labelsize=fontsize)\n",
    "\n",
    "\n",
    "# Coastlines and borders are added\n",
    "ax.coastlines()\n",
    "ax.add_feature(cf.BORDERS)\n",
    "\n",
    "# Axis labels are added\n",
    "ax.set_xlabel(\"Longitude\", fontsize=fontsize)\n",
    "ax.set_ylabel(\"Latitude\", fontsize=fontsize)\n",
    "\n",
    "# Area covered by the ocean is colored\n",
    "ocean110 = cartopy.feature.NaturalEarthFeature(\n",
    "    \"physical\", \"ocean\", scale=\"50m\", edgecolor=\"none\", facecolor=\"#F2F3F4\"\n",
    ")\n",
    "ax.add_feature(ocean110)\n",
    "\n",
    "# Plot area is set\n",
    "ax.set_extent([-10, 20, 34, 55], crs=ccrs.PlateCarree())\n",
    "\n",
    "# Add colorbar\n",
    "cbar = plt.colorbar(cax, ax=ax, orientation=\"vertical\", pad=0.1)\n",
    "cbar.set_label(label=\"Land Surface Temperature (˚C)\", size=fontsize)\n",
    "cbar.ax.tick_params(labelsize=fontsize)\n",
    "\n",
    "# Title is added\n",
    "plt.suptitle(\n",
    "    \"Daily maximum temperature anomaly \\n climatology reference 2004-2022\",\n",
    "    fontsize=fontsize,\n",
    ")\n",
    "\n",
    "\n",
    "# Next we need to create a function that updates the values for the colormesh, as well as the title.\n",
    "def animate(frame):\n",
    "    cax.set_array(update_data(date_range[frame]).values[0, :, :].flatten())\n",
    "    ax.set_title(\"Date: \" + date_range[frame].strftime(\"%d.%m.%Y\"), fontsize=fontsize)\n",
    "\n",
    "\n",
    "# Animation is made\n",
    "ani = FuncAnimation(\n",
    "    fig,  # figure\n",
    "    animate,  # name of the function above\n",
    "    frames=len(date_range),  # Could also be iterable or list\n",
    "    interval=400,  # ms between frames\n",
    ")\n",
    "\n",
    "# Close the last frame in the animation\n",
    "plt.close(fig)\n",
    "\n",
    "# Animation can be saved using the following\n",
    "# ani.save(\"maximum_lst_anomaly.mp4\")\n",
    "# ani.save(\"maximum_lst_anomaly.gif\")\n",
    "\n",
    "# Animation is shown within the jupyter notebook\n",
    "HTML(ani.to_jshtml())"
   ]
  },
  {
   "cell_type": "markdown",
   "metadata": {},
   "source": [
    "Animation can be exported, to be used in other applications, e.g. websites. it is recommended to use \"Diverging\" colormaps(PiYG, PRGn, BrBG, PuOr, RdGy, RdBu, RdYlBu, RdYlGn, Spectral, coolwarm, bwr, seismic) since they allow a good discrimination between areas, that are hotter or colder than the climatology."
   ]
  },
  {
   "cell_type": "markdown",
   "metadata": {},
   "source": [
    "### References:\n",
    "\n",
    "* xarray Developers (2023). xarray User Guide. [https://docs.xarray.dev/en/stable/user-guide/index.html](https://docs.xarray.dev/en/stable/user-guide/index.html). Accesed: 15.12.2023.\n",
    "\n",
    "* Hunter J., Dale D., Firing E. et all (2002-2012) Matplotlib documentation; Choosing Colormaps. [https://matplotlib.org/stable/users/explain/colors/colormaps.html](https://matplotlib.org/stable/users/explain/colors/colormaps.html). Accesed: 15.12.2023.\n",
    "\n",
    "* Some code was adapted from:  \n",
    "    * origin: [https://climate-cms.org/posts/2019-09-03-python-animation.html](https://climate-cms.org/posts/2019-09-03-python-animation.html)\n",
    "    * copyright:  CLEX CMS\n",
    "    * retireved: 15.12.2023.\n",
    "<br/>\n",
    "* Some code was adapted from:  \n",
    "    * origin: [https://stackoverflow.com/questions/66817786/how-can-i-use-the-formatters-to-make-custom-ticks-in-matplotlib](https://stackoverflow.com/questions/66817786/how-can-i-use-the-formatters-to-make-custom-ticks-in-matplotlib)\n",
    "    * license: CC BY-SA 4.0\n",
    "    * copyright:  Stack exchange inc. \n",
    "    * retireved: 15.12.2023."
   ]
  }
 ],
 "metadata": {
  "author": "Vid Primožič, Ahac Pazlar, Boštjan Muri",
  "description": "This Jupyter Notebook presents the preparation of the animation of the maximum daily land surface temperature anomaly calculated from the LSA SAF MLST-ASv2 and pre-calculated reference available on the LSA SAF Data Server for the period July 1, 2023, to August 31, 2023. Animation is exported as a GIF.",
  "image": "./img/lst_3_thumbnail.png",
  "kernelspec": {
   "display_name": "Python 3 (ipykernel)",
   "language": "python",
   "name": "python3"
  },
  "language_info": {
   "codemirror_mode": {
    "name": "ipython",
    "version": 3
   },
   "file_extension": ".py",
   "mimetype": "text/x-python",
   "name": "python",
   "nbconvert_exporter": "python",
   "pygments_lexer": "ipython3",
   "version": "3.10.14"
  },
  "services": {
   "eumetsat": {
    "git": {
     "link": "https://gitlab.eumetsat.int/eumetlab/atmosphere/atmosphere/-/blob/master/name.ipynb",
     "service_contact": "training@eumetsat.int",
     "service_provider": "EUMETSAT"
    },
    "jupyter": {
     "link": "https://ltpy.adamplatform.eu/hub/user-redirect/lab/tree/20_data_exploration/262_CAMS_GFAS_FRPFIRE_load_browse.ipynb",
     "service_contact": "ltpy@meeo.it",
     "service_provider": "MEEO s.r.l"
    }
   }
  },
  "tags": {
   "domain": "Land",
   "service": "",
   "subtheme": "subtheme",
   "tags": ""
  },
  "title": "Plotting the Maximum Daily Temperature Anomaly"
 },
 "nbformat": 4,
 "nbformat_minor": 4
}
